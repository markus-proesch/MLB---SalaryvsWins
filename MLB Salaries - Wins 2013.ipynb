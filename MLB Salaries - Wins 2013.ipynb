{
 "cells": [
  {
   "cell_type": "code",
   "execution_count": 250,
   "metadata": {
    "code_folding": []
   },
   "outputs": [
    {
     "data": {
      "image/png": "[encoded data removed]",
      "text/plain": [
       "<Figure size 432x288 with 1 Axes>"
      ]
     },
     "metadata": {
      "needs_background": "light"
     },
     "output_type": "display_data"
    }
   ],
   "source": [
    "import pandas as pd\n",
    "import scipy as sp\n",
    "import matplotlib.pyplot as plt\n",
    "import statsmodels.formula.api as sm\n",
    "from matplotlib.ticker import FuncFormatter\n",
    "\n",
    "teams=pd.read_csv('/Users/Markus/Documents/Python/Python for Business Analytics Chapters 1-9/Teams.csv')\n",
    "\n",
    "teams=teams[teams['yearID'] >=1985]\n",
    "teams=teams[['yearID', 'teamID', 'Rank', 'R','RA','G', 'W', 'H', 'BB','HBP', 'AB', 'SF','HR','2B', '3B']]\n",
    "\n",
    "teams=teams.set_index(['yearID','teamID'])\n",
    "\n",
    "\n",
    "salaries=pd.read_csv('/Users/Markus/Documents/Python/Python for Business Analytics Chapters 1-9/Salaries.csv')\n",
    "\n",
    "salaries_by_yearID_teamID= salaries.groupby(['yearID','teamID',])['salary'].sum()\n",
    "\n",
    "\n",
    "teams=teams.join(salaries_by_yearID_teamID)\n",
    "\n",
    "\n",
    "def millions(x, pos):\n",
    "    \"The two args are the value and tick position\"\n",
    "    return '$%1.1fM' % (x*1e-6)\n",
    "\n",
    "formatter = FuncFormatter(millions)\n",
    "\n",
    "def plot_spending_wins(teams, year):\n",
    "    teams_year = teams.xs(year)\n",
    "    fig, ax = plt.subplots()\n",
    "    for i in teams_year.index:\n",
    "        if i == 'NYA':\n",
    "            ax.scatter(teams_year['salary'][i], teams_year['W'][i], color=\"blue\", s=200)\n",
    "            ax.annotate(i, (teams_year['salary'][i], teams_year['W'][i]),\n",
    "                        bbox=dict(boxstyle=\"round\", color=\"blue\"),\n",
    "                        xytext=(-30, -30), textcoords='offset points',\n",
    "                        arrowprops=dict(arrowstyle=\"->\", connectionstyle=\"angle,angleA=0,angleB=90,rad=10\"))\n",
    "\n",
    "                \n",
    "        elif i == 'TBA':\n",
    "            ax.scatter(teams_year['salary'][i], teams_year['W'][i], color='blue', s=200)\n",
    "            ax.annotate(i, (teams_year['salary'][i], teams_year['W'][i]),\n",
    "                       bbox=dict(boxstyle='round', color='blue'),\n",
    "                       xytext=(-5, -30), textcoords='offset points',\n",
    "                       arrowprops=dict(arrowstyle=\"->\", connectionstyle=\"angle,angleA=0,angleB=90,rad=10\"))\n",
    "                        \n",
    "        elif i == 'MIN':\n",
    "            ax.scatter(teams_year['salary'][i], teams_year['W'][i], color='blue', s=200)\n",
    "            ax.annotate(i, (teams_year['salary'][i], teams_year['W'][i]),\n",
    "                       bbox=dict(boxstyle='round', color='blue'),\n",
    "                       xytext=(-10, -30), textcoords='offset points',\n",
    "                       arrowprops=dict(arrowstyle=\"->\", connectionstyle=\"angle,angleA=0,angleB=90,rad=10\"))\n",
    "                       \n",
    "        elif i == 'HOU':\n",
    "            ax.scatter(teams_year['salary'][i], teams_year['W'][i], color='blue', s=200)\n",
    "            ax.annotate(i, (teams_year['salary'][i], teams_year['W'][i]),\n",
    "                       bbox=dict(boxstyle='round', color='blue'),\n",
    "                       xytext=(20, 10), textcoords='offset points',\n",
    "                       arrowprops=dict(arrowstyle=\"->\", connectionstyle=\"angle,angleA=0,angleB=90,rad=10\"))\n",
    "                        \n",
    "        elif i == 'ATL':\n",
    "            ax.scatter(teams_year['salary'][i], teams_year['W'][i], color='red', s=200)\n",
    "            ax.annotate(i,(teams_year['salary'][i], teams_year['W'][i]),\n",
    "                       bbox=dict(boxstyle='round', color='red'),\n",
    "                       xytext=(-30, 10), textcoords='offset points',\n",
    "                       arrowprops=dict(arrowstyle=\"->\", connectionstyle=\"angle,angleA=0,angleB=90,rad=10\"))\n",
    "                        \n",
    "        elif i == 'WAS':\n",
    "            ax.scatter(teams_year['salary'][i], teams_year['W'][i], color='red', s=200)\n",
    "            ax.annotate(i,(teams_year['salary'][i], teams_year['W'][i]),\n",
    "                       bbox=dict(boxstyle='round', color='red'),\n",
    "                       xytext=(20, -20), textcoords='offset points',\n",
    "                       arrowprops=dict(arrowstyle=\"->\", connectionstyle=\"angle,angleA=0,angleB=90,rad=10\"))\n",
    "                        \n",
    "        elif i == 'LAN':\n",
    "            ax.scatter(teams_year['salary'][i], teams_year['W'][i], color='red', s=200)\n",
    "            ax.annotate(i,(teams_year['salary'][i], teams_year['W'][i]),\n",
    "                       bbox=dict(boxstyle='round', color='red'),\n",
    "                       xytext=(12, 20), textcoords='offset points',\n",
    "                       arrowprops=dict(arrowstyle=\"->\", connectionstyle=\"angle,angleA=0,angleB=90,rad=10\"))\n",
    "        \n",
    "        elif i == 'SLN':\n",
    "            ax.scatter(teams_year['salary'][i], teams_year['W'][i], color='red', s=200)\n",
    "            ax.annotate(i,(teams_year['salary'][i], teams_year['W'][i]),\n",
    "                       bbox=dict(boxstyle='round', color='red'),\n",
    "                       xytext=(20, 6), textcoords='offset points',\n",
    "                       arrowprops=dict(arrowstyle=\"->\", connectionstyle=\"angle,angleA=0,angleB=90,rad=10\"))\n",
    "            \n",
    "        elif i == 'OAK':\n",
    "            ax.scatter(teams_year['salary'][i], teams_year['W'][i], color='green', s=200)\n",
    "            ax.annotate(i,(teams_year['salary'][i], teams_year['W'][i]),\n",
    "                       bbox=dict(boxstyle='round', color='green'),\n",
    "                       xytext=(-40, 8), textcoords='offset points',\n",
    "                       arrowprops=dict(arrowstyle=\"->\", connectionstyle=\"angle,angleA=0,angleB=110,rad=10\"))\n",
    "            \n",
    "        elif i == 'SFN':\n",
    "            ax.scatter(teams_year['salary'][i], teams_year['W'][i], color='orange', s=200)\n",
    "            ax.annotate(i,(teams_year['salary'][i], teams_year['W'][i]),\n",
    "                       bbox=dict(boxstyle='round', color='orange'),\n",
    "                       xytext=(10, -20), textcoords='offset points',\n",
    "                       arrowprops=dict(arrowstyle=\"->\", connectionstyle=\"angle,angleA=0,angleB=110,rad=10\"))\n",
    "                        \n",
    "        else: \n",
    "            ax.scatter(teams_year['salary'][i], teams_year['W'][i], color='grey', s=50)\n",
    "        ax.xaxis.set_major_formatter(formatter)\n",
    "        ax.tick_params(axis='x', labelsize=15)\n",
    "        ax.tick_params(axis='y', labelsize=15)\n",
    "        ax.set_xlabel('Salaries', fontsize=20)\n",
    "        ax.set_ylabel('# of Wins' , fontsize=20)\n",
    "        ax.set_title('Salaries - Wins: '+ str(year), fontsize=25, fontweight='bold')\n",
    "    plt.show()\n",
    "    \n",
    "\n",
    "\n",
    "\n",
    "\n",
    "plot_spending_wins(teams, 2013)\n",
    "\n",
    "\n",
    "\n"
   ]
  },
  {
   "cell_type": "code",
   "execution_count": null,
   "metadata": {},
   "outputs": [],
   "source": []
  },
  {
   "cell_type": "code",
   "execution_count": null,
   "metadata": {},
   "outputs": [],
   "source": []
  }
 ],
 "metadata": {
  "kernelspec": {
   "display_name": "Python 3",
   "language": "python",
   "name": "python3"
  },
  "language_info": {
   "codemirror_mode": {
    "name": "ipython",
    "version": 3
   },
   "file_extension": ".py",
   "mimetype": "text/x-python",
   "name": "python",
   "nbconvert_exporter": "python",
   "pygments_lexer": "ipython3",
   "version": "3.7.3"
  },
  "toc": {
   "base_numbering": 1,
   "nav_menu": {},
   "number_sections": true,
   "sideBar": true,
   "skip_h1_title": false,
   "title_cell": "Table of Contents",
   "title_sidebar": "Contents",
   "toc_cell": false,
   "toc_position": {},
   "toc_section_display": true,
   "toc_window_display": false
  },
  "varInspector": {
   "cols": {
    "lenName": 16,
    "lenType": 16,
    "lenVar": 40
   },
   "kernels_config": {
    "python": {
     "delete_cmd_postfix": "",
     "delete_cmd_prefix": "del ",
     "library": "var_list.py",
     "varRefreshCmd": "print(var_dic_list())"
    },
    "r": {
     "delete_cmd_postfix": ") ",
     "delete_cmd_prefix": "rm(",
     "library": "var_list.r",
     "varRefreshCmd": "cat(var_dic_list()) "
    }
   },
   "types_to_exclude": [
    "module",
    "function",
    "builtin_function_or_method",
    "instance",
    "_Feature"
   ],
   "window_display": false
  }
 },
 "nbformat": 4,
 "nbformat_minor": 2
}
